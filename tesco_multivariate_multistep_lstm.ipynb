{
 "cells": [
  {
   "cell_type": "code",
   "execution_count": 1,
   "id": "268bf490-f262-48ae-a41a-1477943e177c",
   "metadata": {},
   "outputs": [],
   "source": [
    "#https://github.com/chris-stellato/capstone3/tree/main/notebooks\n"
   ]
  },
  {
   "cell_type": "code",
   "execution_count": 2,
   "id": "d99580dd-f108-40b1-8af3-336f50460900",
   "metadata": {},
   "outputs": [],
   "source": [
    "import pandas as pd\n",
    "import numpy as np\n",
    "import matplotlib.pyplot as plt\n",
    "import seaborn as sns\n",
    "import tensorflow as tf\n",
    "import cv2\n",
    "import math\n",
    "import random\n",
    "import os\n",
    "import time\n",
    "from tensorflow import keras"
   ]
  },
  {
   "cell_type": "code",
   "execution_count": 3,
   "id": "5bcfe754-8813-46e9-bdc6-d59acc20d68b",
   "metadata": {},
   "outputs": [
    {
     "name": "stdout",
     "output_type": "stream",
     "text": [
      "        Date        Open        High         Low       Close   Adj Close  \\\n",
      "0 2021-09-20  254.850006  255.751007  252.050003  254.449997  244.151596   \n",
      "1 2021-09-21  255.550003  257.850006  254.750000  257.200012  246.790314   \n",
      "2 2021-09-22  258.750000  261.649994  258.049988  261.649994  251.060181   \n",
      "3 2021-09-23  263.500000  264.520996  259.500000  259.549988  249.045166   \n",
      "4 2021-09-24  260.100006  260.500000  257.500000  257.500000  247.078156   \n",
      "\n",
      "     Volume  \n",
      "0  13732928  \n",
      "1  18373464  \n",
      "2  15194454  \n",
      "3  13317828  \n",
      "4   9898053  \n",
      "\n",
      "<class 'pandas.core.frame.DataFrame'>\n",
      "RangeIndex: 252 entries, 0 to 251\n",
      "Data columns (total 7 columns):\n",
      " #   Column     Non-Null Count  Dtype         \n",
      "---  ------     --------------  -----         \n",
      " 0   Date       252 non-null    datetime64[ns]\n",
      " 1   Open       252 non-null    float64       \n",
      " 2   High       252 non-null    float64       \n",
      " 3   Low        252 non-null    float64       \n",
      " 4   Close      252 non-null    float64       \n",
      " 5   Adj Close  252 non-null    float64       \n",
      " 6   Volume     252 non-null    int64         \n",
      "dtypes: datetime64[ns](1), float64(5), int64(1)\n",
      "memory usage: 13.9 KB\n",
      "None\n"
     ]
    }
   ],
   "source": [
    "convert_to_dt = ['Date']\n",
    "\n",
    "data = pd.read_csv('C:/Users/tomwr/Datasets/Tabular/tesco-stock.csv',\n",
    "                   parse_dates = convert_to_dt,\n",
    "                   infer_datetime_format = True\n",
    "                  )\n",
    "data_normal_index = data\n",
    "data_date = data.set_index('Date')\n",
    "print(data.head())\n",
    "print()\n",
    "print(data.info())"
   ]
  },
  {
   "cell_type": "code",
   "execution_count": 4,
   "id": "1f9a13ab-2d64-4f72-b76f-ad9e1e0121a6",
   "metadata": {},
   "outputs": [],
   "source": [
    "#windowize function, three dimensional output for X and y, split afterwards\n",
    "#the below windowize functions are imported but pasted here for working through setup\n",
    "def windowize_data(data, n_prev, y_var, predict_steps=365):\n",
    "    n_predictions = len(data) - n_prev\n",
    "    \n",
    "    print(f'num_predictions: {n_predictions}')\n",
    "    y = data[y_var].iloc[n_prev:].values\n",
    "    y_indices = np.arange(predict_steps) + np.arange(len(y) - predict_steps+1)[:, None] # (0 to 365) + (\n",
    "    y = y[y_indices]\n",
    "    x_indices = np.arange(n_prev) + np.arange(n_predictions- predict_steps+1)[:, None]\n",
    "    x = data.values[x_indices]\n",
    "    return x, y"
   ]
  },
  {
   "cell_type": "code",
   "execution_count": 5,
   "id": "e59b5801-ea36-4867-aa66-65ad3825c97a",
   "metadata": {},
   "outputs": [
    {
     "name": "stdout",
     "output_type": "stream",
     "text": [
      "num_predictions: 227\n",
      "X shape: (218, 25, 7)\n",
      "y shape: (218, 10)\n"
     ]
    }
   ],
   "source": [
    "n_prev = 25 # days behind\n",
    "n_forecast = 10 # days forecast ahead\n",
    "\n",
    "X, y = windowize_data(data, n_prev, 'Close', n_forecast)\n",
    "\n",
    "print(f'X shape: {X.shape}')\n",
    "print(f'y shape: {y.shape}')"
   ]
  },
  {
   "cell_type": "code",
   "execution_count": 6,
   "id": "7ce8d62b-d7bb-43d7-ad9f-560b21e32e89",
   "metadata": {},
   "outputs": [],
   "source": [
    "WINDOW_SIZE = 10 #30\n",
    "FORECAST_LEN = 5 #10\n",
    "\n",
    "def windowize_data2(data, window_size, forecast_len, target):\n",
    "    target_col = data[target]\n",
    "    X = []\n",
    "    y = []\n",
    "    data_np = data.to_numpy()\n",
    "    \n",
    "    for i in range(len(data) - window_size): # for i in range (252 - 25 = 227)\n",
    "        current_row_index = i - 1\n",
    "        \n",
    "        features = [[a] for a in data_np[i : i + window_size]] # row for row in data_numpy[1 : 1 + window_size]\n",
    "        X.append(features)\n",
    "        \n",
    "        #labels = [[b] for b in target_col.iloc[i: i + window_size] in data[i: i + forecast_len]]\n",
    "        \n",
    "        #Labels need to be arrays for the next forecast_len values of data[target_col] for each row in data\n",
    "        \n",
    "        \n",
    "        #y.append(labels)\n",
    "        \n",
    "    return np.array(X), np.array(y)\n",
    "\n",
    "X2, y2 = windowize_data2(data_date, WINDOW_SIZE, FORECAST_LEN, 'Close')"
   ]
  },
  {
   "cell_type": "code",
   "execution_count": 7,
   "id": "f33b181d-e013-465e-b671-3a25591203c4",
   "metadata": {},
   "outputs": [
    {
     "name": "stdout",
     "output_type": "stream",
     "text": [
      "(242, 10, 1, 6)\n",
      "(0,)\n"
     ]
    }
   ],
   "source": [
    "print(X2.shape)\n",
    "print(y2.shape)"
   ]
  },
  {
   "cell_type": "code",
   "execution_count": 8,
   "id": "a7efce7b-2416-4cda-844c-ea9ec81a08c3",
   "metadata": {},
   "outputs": [
    {
     "name": "stdout",
     "output_type": "stream",
     "text": [
      "<class 'pandas.core.frame.DataFrame'>\n",
      "DatetimeIndex: 252 entries, 2021-09-20 to 2022-09-20\n",
      "Data columns (total 6 columns):\n",
      " #   Column     Non-Null Count  Dtype  \n",
      "---  ------     --------------  -----  \n",
      " 0   Open       252 non-null    float64\n",
      " 1   High       252 non-null    float64\n",
      " 2   Low        252 non-null    float64\n",
      " 3   Close      252 non-null    float64\n",
      " 4   Adj Close  252 non-null    float64\n",
      " 5   Volume     252 non-null    int64  \n",
      "dtypes: float64(5), int64(1)\n",
      "memory usage: 13.8 KB\n",
      "None\n"
     ]
    }
   ],
   "source": [
    "print(data_date.info())"
   ]
  },
  {
   "cell_type": "code",
   "execution_count": 9,
   "id": "f40e7329-03e1-4a5f-bd87-e20b72ff2aad",
   "metadata": {},
   "outputs": [
    {
     "name": "stdout",
     "output_type": "stream",
     "text": [
      "y3 shape: (237, 5, 6)\n",
      "\n",
      "\n",
      "ry3 shape: (237, 5)\n",
      "\n",
      "\n",
      "X3 shape: (237, 10, 6)\n"
     ]
    }
   ],
   "source": [
    "#https://www.kaggle.com/code/rinichristy/bi-uni-lstm-rnns-for-temperature-forecasting\n",
    "#assumes data has been scaled before this stage\n",
    "def windowize_data3(data, window_size, forecast_len):\n",
    "    X3 = []\n",
    "    y3 = []\n",
    "    for i in range(len(data) - window_size - forecast_len):\n",
    "        X3.append(data[i: (i + window_size)])\n",
    "        #y3.append(data[:, -1][i + window_size: i + window_size + forecast_len])\n",
    "        \n",
    "        y3.append(data[: -1][i + window_size: i + window_size + forecast_len])\n",
    "\n",
    "    X3 = np.array(X3) #\n",
    "    y3 = np.array(y3) #\n",
    "    ry3 = y3[:, :, 3] # selects the 3rd index (Close) - our target\n",
    "    \n",
    "    return np.array(X3), np.array(y3), np.array(ry3)\n",
    "\n",
    "X3, y3, ry3 = windowize_data3(data_date, WINDOW_SIZE, FORECAST_LEN)\n",
    "\n",
    "#print(X3.shape)\n",
    "print(f'y3 shape: {y3.shape}') # Needs to be (212, 10) - 212 samples of the next 10 values of close.\n",
    "print()\n",
    "print()\n",
    "print(f'ry3 shape: {ry3.shape}')\n",
    "print()\n",
    "print()\n",
    "print(f'X3 shape: {X3.shape}')\n",
    "\n",
    "#https://stackoverflow.com/questions/52572391/extract-nth-value-from-3d-array (for below)\n"
   ]
  },
  {
   "cell_type": "code",
   "execution_count": 10,
   "id": "98f00925-e59f-404d-8f5c-9cdf567a10aa",
   "metadata": {},
   "outputs": [
    {
     "name": "stdout",
     "output_type": "stream",
     "text": [
      "[[2.54850006e+02 2.55751007e+02 2.52050003e+02 2.54449997e+02\n",
      "  2.44151596e+02 1.37329280e+07]\n",
      " [2.55550003e+02 2.57850006e+02 2.54750000e+02 2.57200012e+02\n",
      "  2.46790314e+02 1.83734640e+07]\n",
      " [2.58750000e+02 2.61649994e+02 2.58049988e+02 2.61649994e+02\n",
      "  2.51060181e+02 1.51944540e+07]\n",
      " [2.63500000e+02 2.64520996e+02 2.59500000e+02 2.59549988e+02\n",
      "  2.49045166e+02 1.33178280e+07]\n",
      " [2.60100006e+02 2.60500000e+02 2.57500000e+02 2.57500000e+02\n",
      "  2.47078156e+02 9.89805300e+06]\n",
      " [2.58899994e+02 2.59950012e+02 2.57100006e+02 2.57899994e+02\n",
      "  2.47461960e+02 1.60735510e+07]\n",
      " [2.56899994e+02 2.59000000e+02 2.54399994e+02 2.56350006e+02\n",
      "  2.45974701e+02 1.45675030e+07]\n",
      " [2.56950012e+02 2.58899994e+02 2.56100006e+02 2.56500000e+02\n",
      "  2.46118637e+02 2.43726390e+07]\n",
      " [2.58000000e+02 2.58700012e+02 2.52800003e+02 2.53300003e+02\n",
      "  2.43048141e+02 2.52676980e+07]\n",
      " [2.51199997e+02 2.51600006e+02 2.46600006e+02 2.47949997e+02\n",
      "  2.37914673e+02 2.41409030e+07]]\n"
     ]
    }
   ],
   "source": [
    "print(X3[0])\n",
    "\n",
    "#10 rows as windowsize = 10. \n",
    "#6 values in each as these are the columns."
   ]
  },
  {
   "cell_type": "code",
   "execution_count": 11,
   "id": "c4c4b291-2908-4dad-a221-d30bdac1f7e4",
   "metadata": {},
   "outputs": [
    {
     "name": "stdout",
     "output_type": "stream",
     "text": [
      "[251.649994 253.       268.049988 273.149994 275.600006]\n"
     ]
    }
   ],
   "source": [
    "print(ry3[0])\n",
    "\n",
    "#1 row = 1 row of outputs\n",
    "#5 values in row = next 5 values of close."
   ]
  },
  {
   "cell_type": "markdown",
   "id": "aeaebd3f-9ab2-4197-8180-9c58c1a8bb62",
   "metadata": {},
   "source": [
    "**Split data into train, val, test - 80: 10: 10**"
   ]
  },
  {
   "cell_type": "code",
   "execution_count": 12,
   "id": "abdaff07-fded-40a4-8f8f-c57f27de5fbb",
   "metadata": {},
   "outputs": [
    {
     "name": "stdout",
     "output_type": "stream",
     "text": [
      "237\n",
      "237\n",
      "\n",
      "80% of dataset: 189.60000000000002\n",
      "90% of dataset: 213.3\n",
      "\n",
      "X_train, y_train shapes: ((190, 10, 6), (190, 5))\n",
      "X_val, y_val shapes: ((24, 10, 6), (24, 5))\n",
      "X_test, y_test shapes: ((23, 10, 6), (23, 5))\n"
     ]
    }
   ],
   "source": [
    "print(len(X3))\n",
    "print(len(ry3))\n",
    "print()\n",
    "print(f'80% of dataset: {(len(X3) / 100) * 80}')\n",
    "print(f'90% of dataset: {(len(X3) / 100) * 90}')\n",
    "\n",
    "X_train, y_train = X3[:190], ry3[:190]\n",
    "X_val, y_val = X3[190: 214], ry3[190:214]\n",
    "X_test, y_test = X3[214:], ry3[214:]\n",
    "\n",
    "print()\n",
    "print(f'X_train, y_train shapes: {X_train.shape, y_train.shape}')\n",
    "print(f'X_val, y_val shapes: {X_val.shape, y_val.shape}')\n",
    "print(f'X_test, y_test shapes: {X_test.shape, y_test.shape}')"
   ]
  },
  {
   "cell_type": "code",
   "execution_count": 13,
   "id": "27f1e037-8779-45dc-a1cb-d4cfb26ce7dd",
   "metadata": {},
   "outputs": [],
   "source": [
    "from keras.models import Sequential\n",
    "from keras.layers import *\n",
    "from keras.activations import *\n",
    "from keras.optimizers import *\n",
    "from keras.losses import *\n",
    "from keras.metrics import *\n",
    "from keras.constraints import *"
   ]
  },
  {
   "cell_type": "code",
   "execution_count": 14,
   "id": "87db265e-275e-4fd7-b132-eb584aab7226",
   "metadata": {},
   "outputs": [
    {
     "name": "stdout",
     "output_type": "stream",
     "text": [
      "Epoch 1/5\n",
      "6/6 [==============================] - 5s 221ms/step - loss: 74664.8125 - root_mean_squared_error: 273.2486 - val_loss: 66361.6484 - val_root_mean_squared_error: 257.6075\n",
      "Epoch 2/5\n",
      "6/6 [==============================] - 0s 16ms/step - loss: 74041.3594 - root_mean_squared_error: 272.1054 - val_loss: 66095.9844 - val_root_mean_squared_error: 257.0914\n",
      "Epoch 3/5\n",
      "6/6 [==============================] - 0s 15ms/step - loss: 73772.6094 - root_mean_squared_error: 271.6111 - val_loss: 65856.1328 - val_root_mean_squared_error: 256.6245\n",
      "Epoch 4/5\n",
      "6/6 [==============================] - 0s 14ms/step - loss: 73527.5078 - root_mean_squared_error: 271.1596 - val_loss: 65632.3438 - val_root_mean_squared_error: 256.1881\n",
      "Epoch 5/5\n",
      "6/6 [==============================] - 0s 13ms/step - loss: 73295.0703 - root_mean_squared_error: 270.7306 - val_loss: 65417.1523 - val_root_mean_squared_error: 255.7678\n"
     ]
    }
   ],
   "source": [
    "#This works but performs poorly on unscaled data. \n",
    "\n",
    "lstm_1 = Sequential([\n",
    "    LSTM(units = 64, input_shape = X3.shape[1:], return_sequences = True, kernel_constraint = NonNeg()),\n",
    "    LSTM(units = 64, return_sequences = False, kernel_constraint = NonNeg()),\n",
    "    Dense(units = FORECAST_LEN, activation = 'linear', kernel_constraint = NonNeg())\n",
    "    \n",
    "])\n",
    "\n",
    "lstm_1.compile(loss = 'mean_squared_error',\n",
    "               optimizer = Adam(),\n",
    "               metrics = RootMeanSquaredError()\n",
    "              )\n",
    "\n",
    "lstm_1_history = lstm_1.fit(X_train, y_train,\n",
    "                            validation_data = (X_val, y_val),\n",
    "                            epochs = 5\n",
    "                           )\n"
   ]
  },
  {
   "cell_type": "code",
   "execution_count": 15,
   "id": "6e899d8d-ea52-44b8-9756-1ddce193d061",
   "metadata": {},
   "outputs": [
    {
     "name": "stdout",
     "output_type": "stream",
     "text": [
      "1/1 [==============================] - 1s 828ms/step\n",
      "23\n",
      "\n",
      "[[6.4790645 5.720898  6.1368933 5.3759356 5.7756815]\n",
      " [6.4790645 5.720898  6.1368933 5.3759356 5.7756815]\n",
      " [6.479064  5.720898  6.1368933 5.3759356 5.7756815]\n",
      " [6.479064  5.720898  6.1368933 5.3759356 5.7756815]\n",
      " [6.4790645 5.720898  6.1368933 5.3759356 5.7756815]\n",
      " [6.479064  5.720898  6.1368933 5.3759356 5.7756815]\n",
      " [6.479064  5.720898  6.1368933 5.3759356 5.7756815]\n",
      " [6.4790645 5.720898  6.1368933 5.3759356 5.7756815]\n",
      " [6.479064  5.720898  6.1368933 5.3759356 5.7756815]\n",
      " [6.479064  5.720898  6.1368933 5.3759356 5.7756815]\n",
      " [6.4790645 5.720898  6.1368933 5.3759356 5.7756815]\n",
      " [6.479064  5.720898  6.1368933 5.3759356 5.7756815]\n",
      " [6.479064  5.720898  6.1368933 5.3759356 5.7756815]\n",
      " [6.4790645 5.720898  6.1368933 5.3759356 5.7756815]\n",
      " [6.4790645 5.720898  6.1368933 5.3759356 5.7756815]\n",
      " [6.4790645 5.720898  6.1368933 5.3759356 5.7756815]\n",
      " [6.4790645 5.720898  6.1368933 5.3759356 5.7756815]\n",
      " [6.4790645 5.720898  6.1368933 5.3759356 5.7756815]\n",
      " [6.4790645 5.720898  6.1368933 5.3759356 5.7756815]\n",
      " [6.479064  5.720898  6.1368933 5.3759356 5.7756815]\n",
      " [6.4790645 5.720898  6.1368933 5.3759356 5.7756815]\n",
      " [6.4790645 5.720898  6.1368933 5.3759356 5.7756815]\n",
      " [6.4790645 5.720898  6.1368933 5.3759356 5.7756815]]\n"
     ]
    }
   ],
   "source": [
    "lstm_1_predictions = lstm_1.predict(X_test)\n",
    "\n",
    "print(len(lstm_1_predictions))\n",
    "print()\n",
    "print(lstm_1_predictions)\n",
    "\n",
    "#Each row in predictions of all 4 is days +1, +2, +3 etc. "
   ]
  },
  {
   "cell_type": "markdown",
   "id": "ddb4f484-7280-4884-927c-93306da4c3b0",
   "metadata": {},
   "source": [
    "**Scaling the data for better performance (hopefully)**"
   ]
  },
  {
   "cell_type": "code",
   "execution_count": 43,
   "id": "92d04bc3-f96e-41c3-8f87-31781452d8d1",
   "metadata": {},
   "outputs": [],
   "source": [
    "from sklearn.preprocessing import MinMaxScaler\n",
    "\n",
    "feature_scaler = MinMaxScaler(feature_range = (0, 1))\n",
    "\n",
    "\n",
    "label_scaler = MinMaxScaler(feature_range = (0, 1))\n",
    "\n",
    "################## FEATURES ###########################\n",
    "#Break down arrays shapes\n",
    "X_train_sequences, X_train_window, X_train_features = X_train.shape\n",
    "X_val_sequences, X_val_window, X_val_features = X_val.shape\n",
    "X_test_sequences, X_test_window, X_test_features = X_test.shape\n",
    "\n",
    "#Create 2D versions - so can be transformed\n",
    "X_train_2D = X_train.reshape(X_train_sequences, X_train_window * X_train_features)\n",
    "X_val_2D = X_val.reshape(X_val_sequences, X_val_window * X_val_features)\n",
    "X_test_2D = X_test.reshape(X_test_sequences, X_test_window * X_test_features)\n",
    "\n",
    "#Create 2D scaled versions\n",
    "X_train_2D_scaled = feature_scaler.fit_transform(X_train_2D)\n",
    "X_val_2D_scaled = feature_scaler.transform(X_val_2D)\n",
    "X_test_2D_scaled = feature_scaler.transform(X_test_2D)\n",
    "\n",
    "#Create 3D scaled versions - so can be used in a model\n",
    "X_train_3D_scaled = X_train_2D_scaled.reshape(X_train_sequences, X_train_window, X_train_features)\n",
    "X_val_3D_scaled = X_val_2D_scaled.reshape(X_val_sequences, X_val_window, X_val_features)\n",
    "X_test_3D_scaled = X_test_2D_scaled.reshape(X_test_sequences, X_test_window, X_test_features)\n",
    "\n",
    "################## LABELS ##############################\n",
    "\n",
    "#Create scaled 2D labels - y_train is already 2D\n",
    "y_train_2D_scaled = label_scaler.fit_transform(y_train)\n",
    "y_val_2D_scaled = label_scaler.transform(y_val)\n",
    "y_test_2D_scaled = label_scaler.transform(y_test)\n",
    "\n",
    "#Create scaled 1D labels\n",
    "y_train_1D_scaled = y_train_2D_scaled.flatten()\n",
    "y_val_1D_scaled = y_val_2D_scaled.flatten()\n",
    "y_test_1D_scaled = y_test_2D_scaled.flatten()\n",
    "\n",
    "#Create unscaled 1D labels\n",
    "y_train_1D_unscaled = label_scaler.inverse_transform(y_train_2D_scaled).flatten()\n",
    "y_val_1D_unscaled = label_scaler.inverse_transform(y_val_2D_scaled).flatten()\n",
    "y_test_1D_unscaled = label_scaler.inverse_transform(y_test_2D_scaled).flatten()\n",
    "\n",
    "#Create unscaled 2D labels\n",
    "y_train_2D_unscaled = label_scaler.inverse_transform(y_train_2D_scaled)\n",
    "y_val_2D_unscaled = label_scaler.inverse_transform(y_val_2D_scaled)\n",
    "y_test_2D_unscaled = label_scaler.inverse_transform(y_test_2D_scaled)"
   ]
  },
  {
   "cell_type": "markdown",
   "id": "b2ccc70b-9b47-452c-8818-37a440356df9",
   "metadata": {},
   "source": [
    "**LSTM_2 - Using same architecture but scaled dataset**"
   ]
  },
  {
   "cell_type": "code",
   "execution_count": 17,
   "id": "5186a764-1205-4ce0-bdcb-5d1cb94efc5c",
   "metadata": {},
   "outputs": [
    {
     "name": "stdout",
     "output_type": "stream",
     "text": [
      "Epoch 1/5\n",
      "6/6 [==============================] - 5s 216ms/step - loss: 0.4794 - root_mean_squared_error: 0.6924 - val_loss: 0.0080 - val_root_mean_squared_error: 0.0897\n",
      "Epoch 2/5\n",
      "6/6 [==============================] - 0s 14ms/step - loss: 0.0329 - root_mean_squared_error: 0.1814 - val_loss: 0.0096 - val_root_mean_squared_error: 0.0981\n",
      "Epoch 3/5\n",
      "6/6 [==============================] - 0s 18ms/step - loss: 0.0477 - root_mean_squared_error: 0.2183 - val_loss: 0.0180 - val_root_mean_squared_error: 0.1342\n",
      "Epoch 4/5\n",
      "6/6 [==============================] - 0s 16ms/step - loss: 0.0585 - root_mean_squared_error: 0.2420 - val_loss: 0.0148 - val_root_mean_squared_error: 0.1216\n",
      "Epoch 5/5\n",
      "6/6 [==============================] - 0s 18ms/step - loss: 0.0412 - root_mean_squared_error: 0.2030 - val_loss: 0.0076 - val_root_mean_squared_error: 0.0873\n"
     ]
    }
   ],
   "source": [
    "lstm_2 = Sequential([\n",
    "    LSTM(units = 64, input_shape = X3.shape[1:], return_sequences = True, kernel_constraint = NonNeg()),\n",
    "    LSTM(units = 64, return_sequences = False, kernel_constraint = NonNeg()),\n",
    "    Dense(units = FORECAST_LEN, activation = 'linear', kernel_constraint = NonNeg())\n",
    "    \n",
    "])\n",
    "\n",
    "lstm_2.compile(loss = 'mean_squared_error',\n",
    "               optimizer = Adam(),\n",
    "               metrics = RootMeanSquaredError()\n",
    "              )\n",
    "\n",
    "lstm_2_history = lstm_2.fit(X_train_3D_scaled, y_train_2D_scaled,\n",
    "                            validation_data = (X_val_3D_scaled, y_val_2D_scaled),\n",
    "                            epochs = 5\n",
    "                           )"
   ]
  },
  {
   "cell_type": "code",
   "execution_count": 46,
   "id": "8780cb69-fadb-431f-aede-cd0b51befafe",
   "metadata": {},
   "outputs": [
    {
     "name": "stdout",
     "output_type": "stream",
     "text": [
      "1/1 [==============================] - 0s 19ms/step\n",
      "\n",
      "(23, 5)\n",
      "23\n",
      "[[ 0.2466816   0.24485333  0.2387896   0.24065465  0.1893264 ]\n",
      " [ 0.25373596  0.2514987   0.24637909  0.24780181  0.19668616]\n",
      " [ 0.261008    0.25863558  0.25431427  0.25527835  0.20416366]\n",
      " [ 0.25992712  0.2582342   0.25325269  0.2543084   0.202356  ]\n",
      " [ 0.26049992  0.2590725   0.25397366  0.25503376  0.20277251]\n",
      " [ 0.26648158  0.26478463  0.26087794  0.26169303  0.21018486]\n",
      " [ 0.27780902  0.27580756  0.27373388  0.2740778   0.223445  ]\n",
      " [ 0.2937071   0.29145062  0.2917932   0.29166958  0.24196991]\n",
      " [ 0.31006154  0.3081615   0.30968654  0.3093591   0.25903797]\n",
      " [ 0.3193579   0.31880695  0.3193818   0.3193436   0.26658174]\n",
      " [ 0.31733713  0.3188939   0.316726    0.3174599   0.2613113 ]\n",
      " [ 0.30596122  0.30930507  0.30331615  0.30522954  0.24570332]\n",
      " [ 0.2818084   0.2869971   0.27536204  0.27871084  0.21544681]\n",
      " [ 0.25029337  0.25678533  0.23924805  0.24361262  0.177099  ]\n",
      " [ 0.21446262  0.22094196  0.19884764  0.2037441   0.13616897]\n",
      " [ 0.18368523  0.18822508  0.16450754  0.16939598  0.10380832]\n",
      " [ 0.14781754  0.15021865  0.12497239  0.13004631  0.0673123 ]\n",
      " [ 0.11518497  0.11476342  0.08964097  0.09479667  0.03654267]\n",
      " [ 0.09153862  0.08761784  0.06457067  0.06959712  0.01743009]\n",
      " [ 0.08935029  0.08061322  0.06347582  0.06759168  0.02383113]\n",
      " [ 0.09019981  0.078275    0.06570701  0.06938365  0.0319734 ]\n",
      " [ 0.07089799  0.05934386  0.04499587  0.04994443  0.01327989]\n",
      " [ 0.04444797  0.03409692  0.01559796  0.02220378 -0.01588518]]\n",
      "\n"
     ]
    }
   ],
   "source": [
    "lstm_2_predictions = lstm_2.predict(X_test_3D_scaled)\n",
    "print()\n",
    "print(lstm_2_predictions.shape) # (23, 5) is same shape as y test.\n",
    "\n",
    "# lstm_2_predictions[lstm_2_predictions < 0] = 0 # converts any negative predictions into 0. Cannot be negative value. ----------DO I NEED THIS? 25/09/22\n",
    "\n",
    "#23 days of +5 forecasts. Each row is next day.\n",
    "#Bottom row is predictions beyond the end of dataset ( i think)\n",
    "\n",
    "print(len(lstm_2_predictions))\n",
    "\n",
    "print(lstm_2_predictions)\n",
    "\n",
    "lstm_2_predictions_5day = lstm_2_predictions[:, 0:5]\n",
    "lstm_2_predictions_row_mean = np.mean(lstm_2_predictions, axis = 1) # mean taken along each of the 23 rows of lstm_2_prediction\n",
    "print()\n",
    "\n",
    "#plt.plot(lstm_2_predictions_row_mean)\n",
    "#plt.plot(lstm_2_predictions_5day[:, 0: 5])\n",
    "#plt.plot(lstm_2_predictions[-2]) # 2nd from bottom row - Blue\n",
    "#plt.plot(lstm_2_predictions[-1]) # bottom row - Orange\n",
    "#plt.plot(lstm_2_predictions)\n",
    "plt.show()\n",
    "\n",
    "#Each column is t+1, t+2, t+3, t+4, t+5. Further along columns are likely to be less accurate??\n",
    "#If I just wanted to look at 5 day forecasts, I would select the 5th column and plot that only. \n",
    "\n",
    "#https://stackoverflow.com/questions/62085898/multivariate-and-multistep-lstm     -- do I just take the top row of predictions?"
   ]
  },
  {
   "cell_type": "code",
   "execution_count": 47,
   "id": "2250151b-629c-4681-aa52-0fe440739aab",
   "metadata": {},
   "outputs": [
    {
     "name": "stdout",
     "output_type": "stream",
     "text": [
      "t+1 forecast mae: 0.11830478441581037\n",
      "t+2 forecast mae: 0.12750668174951119\n",
      "t+3 forecast mae: 0.1371209007458298\n",
      "t+4 forecast mae: 0.1580711765575381\n",
      "t+5 forecast mae: 0.15956900977851834\n"
     ]
    }
   ],
   "source": [
    "#Each variable is a column. Each column is the t+1 forecast.\n",
    "\n",
    "lstm_2_predictions_t1 = lstm_2_predictions[:, 0]\n",
    "lstm_2_predictions_t2 = lstm_2_predictions[:, 1]\n",
    "lstm_2_predictions_t3 = lstm_2_predictions[:, 2]\n",
    "lstm_2_predictions_t4 = lstm_2_predictions[:, 3]\n",
    "lstm_2_predictions_t5 = lstm_2_predictions[:, 4]\n",
    "\n",
    "#Get metrics for each forecast length\n",
    "\n",
    "from sklearn.metrics import mean_absolute_error, mean_squared_error, r2_score #y_true, y_pred\n",
    "\n",
    "lstm_2_predictions_t1_mae = mean_absolute_error(y_test_2D_scaled[:, 0], lstm_2_predictions_t1)\n",
    "lstm_2_predictions_t2_mae = mean_absolute_error(y_test_2D_scaled[:, 1], lstm_2_predictions_t2)\n",
    "lstm_2_predictions_t3_mae = mean_absolute_error(y_test_2D_scaled[:, 2], lstm_2_predictions_t3)\n",
    "lstm_2_predictions_t4_mae = mean_absolute_error(y_test_2D_scaled[:, 3], lstm_2_predictions_t4)\n",
    "lstm_2_predictions_t5_mae = mean_absolute_error(y_test_2D_scaled[:, 4], lstm_2_predictions_t5)\n",
    "\n",
    "print(f't+1 forecast mae: {lstm_2_predictions_t1_mae}')\n",
    "print(f't+2 forecast mae: {lstm_2_predictions_t2_mae}')\n",
    "print(f't+3 forecast mae: {lstm_2_predictions_t3_mae}')\n",
    "print(f't+4 forecast mae: {lstm_2_predictions_t4_mae}')\n",
    "print(f't+5 forecast mae: {lstm_2_predictions_t5_mae}')"
   ]
  },
  {
   "cell_type": "code",
   "execution_count": 48,
   "id": "b7a63fe8-47cb-4188-a3ea-570179703123",
   "metadata": {},
   "outputs": [
    {
     "data": {
      "image/png": "[encoded data removed]",
      "text/plain": [
       "<Figure size 432x288 with 1 Axes>"
      ]
     },
     "metadata": {
      "needs_background": "light"
     },
     "output_type": "display_data"
    }
   ],
   "source": [
    "#Plotting lstm_2_prediction forecast types against actual conditions - ALL SCALED STILL\n",
    "\n",
    "#plt.plot(lstm_2_predictions_t1, label = 'forecast t+1')\n",
    "plt.plot(lstm_2_predictions_t5, label = 'forecast t+5')\n",
    "#plt.plot(y_test_2D_scaled[:, 0], label = 'actual t+1')\n",
    "plt.plot(y_test_2D_scaled[:, 4], label = 'actual t+5')\n",
    "\n",
    "plt.legend()\n",
    "plt.show()"
   ]
  },
  {
   "cell_type": "code",
   "execution_count": 50,
   "id": "c7937b0c-f61b-4aa3-8436-360fd6a83dc9",
   "metadata": {},
   "outputs": [
    {
     "name": "stdout",
     "output_type": "stream",
     "text": [
      "[[260.23486 260.13013 259.78265 259.8895  256.9484 ]\n",
      " [260.63907 260.5109  260.21753 260.29904 257.37012]\n",
      " [261.05576 260.91983 260.6722  260.72745 257.79858]\n",
      " [260.99384 260.89682 260.6114  260.67188 257.695  ]\n",
      " [261.02664 260.94485 260.65268 260.71344 257.71887]\n",
      " [261.3694  261.27216 261.0483  261.095   258.1436 ]\n",
      " [262.01846 261.90378 261.78494 261.80466 258.9034 ]\n",
      " [262.9294  262.8001  262.81976 262.81265 259.9649 ]\n",
      " [263.86652 263.75766 263.84506 263.8263  260.94287]\n",
      " [264.3992  264.3676  264.40057 264.3984  261.37512]\n",
      " [264.28342 264.37262 264.24838 264.29047 261.07312]\n",
      " [263.6316  263.82318 263.48    263.58966 260.1788 ]\n",
      " [262.24762 262.54492 261.87827 262.07013 258.44513]\n",
      " [260.4418  260.8138  259.8089  260.05902 256.24777]\n",
      " [258.38873 258.75998 257.494   257.77454 253.9025 ]\n",
      " [256.62518 256.88528 255.52628 255.8064  252.04823]\n",
      " [254.56996 254.70753 253.26093 253.55167 249.957  ]\n",
      " [252.7001  252.67595 251.23645 251.53186 248.1939 ]\n",
      " [251.34515 251.12051 249.7999  250.08794 247.09874]\n",
      " [251.21977 250.71915 249.73717 249.973   247.46552]\n",
      " [251.26846 250.58514 249.865   250.07568 247.93208]\n",
      " [250.16246 249.50041 248.67827 248.96182 246.86095]\n",
      " [248.64688 248.05376 246.99376 247.3723  245.18977]]\n"
     ]
    },
    {
     "data": {
      "image/png": "[encoded data removed]",
      "text/plain": [
       "<Figure size 432x288 with 1 Axes>"
      ]
     },
     "metadata": {
      "needs_background": "light"
     },
     "output_type": "display_data"
    }
   ],
   "source": [
    "#Generating unscaled predictions. These are the ones to actually plot\n",
    "\n",
    "lstm_2_predictions_unscaled = label_scaler.inverse_transform(lstm_2_predictions)\n",
    "print(lstm_2_predictions_unscaled)\n",
    "\n",
    "lstm_2_predictions_unscaled_t1 = lstm_2_predictions_unscaled[:, 0]\n",
    "lstm_2_predictions_unscaled_t2 = lstm_2_predictions_unscaled[:, 1]\n",
    "lstm_2_predictions_unscaled_t3 = lstm_2_predictions_unscaled[:, 2]\n",
    "lstm_2_predictions_unscaled_t4 = lstm_2_predictions_unscaled[:, 3]\n",
    "lstm_2_predictions_unscaled_t5 = lstm_2_predictions_unscaled[:, 4]\n",
    "\n",
    "plt.plot(lstm_2_predictions_unscaled_t1, label = 'predictions t+1')\n",
    "plt.plot(y_test_2D_unscaled[:, 0], label = 'actual t+1')\n",
    "plt.legend()\n",
    "plt.show()"
   ]
  },
  {
   "cell_type": "code",
   "execution_count": null,
   "id": "08b6c159-41c3-4922-a6da-dc26f68f5c25",
   "metadata": {},
   "outputs": [],
   "source": []
  }
 ],
 "metadata": {
  "kernelspec": {
   "display_name": "Python 3 (ipykernel)",
   "language": "python",
   "name": "python3"
  },
  "language_info": {
   "codemirror_mode": {
    "name": "ipython",
    "version": 3
   },
   "file_extension": ".py",
   "mimetype": "text/x-python",
   "name": "python",
   "nbconvert_exporter": "python",
   "pygments_lexer": "ipython3",
   "version": "3.10.4"
  }
 },
 "nbformat": 4,
 "nbformat_minor": 5
}
