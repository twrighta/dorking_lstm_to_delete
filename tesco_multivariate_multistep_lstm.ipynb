{
 "cells": [
  {
   "cell_type": "code",
   "execution_count": 1,
   "id": "268bf490-f262-48ae-a41a-1477943e177c",
   "metadata": {},
   "outputs": [],
   "source": [
    "#https://github.com/chris-stellato/capstone3/tree/main/notebooks\n"
   ]
  },
  {
   "cell_type": "code",
   "execution_count": 2,
   "id": "d99580dd-f108-40b1-8af3-336f50460900",
   "metadata": {},
   "outputs": [],
   "source": [
    "import pandas as pd\n",
    "import numpy as np\n",
    "import matplotlib.pyplot as plt\n",
    "import seaborn as sns\n",
    "import tensorflow as tf\n",
    "import cv2\n",
    "import math\n",
    "import random\n",
    "import os\n",
    "import time\n",
    "from tensorflow import keras"
   ]
  },
  {
   "cell_type": "code",
   "execution_count": 3,
   "id": "5bcfe754-8813-46e9-bdc6-d59acc20d68b",
   "metadata": {},
   "outputs": [
    {
     "name": "stdout",
     "output_type": "stream",
     "text": [
      "        Date        Open        High         Low       Close   Adj Close  \\\n",
      "0 2021-09-20  254.850006  255.751007  252.050003  254.449997  244.151596   \n",
      "1 2021-09-21  255.550003  257.850006  254.750000  257.200012  246.790314   \n",
      "2 2021-09-22  258.750000  261.649994  258.049988  261.649994  251.060181   \n",
      "3 2021-09-23  263.500000  264.520996  259.500000  259.549988  249.045166   \n",
      "4 2021-09-24  260.100006  260.500000  257.500000  257.500000  247.078156   \n",
      "\n",
      "     Volume  \n",
      "0  13732928  \n",
      "1  18373464  \n",
      "2  15194454  \n",
      "3  13317828  \n",
      "4   9898053  \n",
      "\n",
      "<class 'pandas.core.frame.DataFrame'>\n",
      "RangeIndex: 252 entries, 0 to 251\n",
      "Data columns (total 7 columns):\n",
      " #   Column     Non-Null Count  Dtype         \n",
      "---  ------     --------------  -----         \n",
      " 0   Date       252 non-null    datetime64[ns]\n",
      " 1   Open       252 non-null    float64       \n",
      " 2   High       252 non-null    float64       \n",
      " 3   Low        252 non-null    float64       \n",
      " 4   Close      252 non-null    float64       \n",
      " 5   Adj Close  252 non-null    float64       \n",
      " 6   Volume     252 non-null    int64         \n",
      "dtypes: datetime64[ns](1), float64(5), int64(1)\n",
      "memory usage: 13.9 KB\n",
      "None\n"
     ]
    }
   ],
   "source": [
    "convert_to_dt = ['Date']\n",
    "\n",
    "data = pd.read_csv('C:/Users/tomwr/Datasets/Tabular/tesco-stock.csv',\n",
    "                   parse_dates = convert_to_dt,\n",
    "                   infer_datetime_format = True\n",
    "                  )\n",
    "data_normal_index = data\n",
    "data_date = data.set_index('Date')\n",
    "print(data.head())\n",
    "print()\n",
    "print(data.info())"
   ]
  },
  {
   "cell_type": "code",
   "execution_count": 4,
   "id": "1f9a13ab-2d64-4f72-b76f-ad9e1e0121a6",
   "metadata": {},
   "outputs": [],
   "source": [
    "#windowize function, three dimensional output for X and y, split afterwards\n",
    "#the below windowize functions are imported but pasted here for working through setup\n",
    "def windowize_data(data, n_prev, y_var, predict_steps=365):\n",
    "    n_predictions = len(data) - n_prev\n",
    "    \n",
    "    print(f'num_predictions: {n_predictions}')\n",
    "    y = data[y_var].iloc[n_prev:].values\n",
    "    y_indices = np.arange(predict_steps) + np.arange(len(y) - predict_steps+1)[:, None] # (0 to 365) + (\n",
    "    y = y[y_indices]\n",
    "    x_indices = np.arange(n_prev) + np.arange(n_predictions- predict_steps+1)[:, None]\n",
    "    x = data.values[x_indices]\n",
    "    return x, y"
   ]
  },
  {
   "cell_type": "code",
   "execution_count": 5,
   "id": "e59b5801-ea36-4867-aa66-65ad3825c97a",
   "metadata": {},
   "outputs": [
    {
     "name": "stdout",
     "output_type": "stream",
     "text": [
      "num_predictions: 227\n",
      "X shape: (218, 25, 7)\n",
      "y shape: (218, 10)\n"
     ]
    }
   ],
   "source": [
    "n_prev = 25 # days behind\n",
    "n_forecast = 10 # days forecast ahead\n",
    "\n",
    "X, y = windowize_data(data, n_prev, 'Close', n_forecast)\n",
    "\n",
    "print(f'X shape: {X.shape}')\n",
    "print(f'y shape: {y.shape}')"
   ]
  },
  {
   "cell_type": "code",
   "execution_count": 14,
   "id": "7ce8d62b-d7bb-43d7-ad9f-560b21e32e89",
   "metadata": {},
   "outputs": [],
   "source": [
    "WINDOW_SIZE = 30\n",
    "FORECAST_LEN = 10\n",
    "\n",
    "def windowize_data2(data, window_size, forecast_len, target):\n",
    "    target_col = data[target]\n",
    "    X = []\n",
    "    y = []\n",
    "    data_np = data.to_numpy()\n",
    "    \n",
    "    for i in range(len(data) - window_size): # for i in range (252 - 25 = 227)\n",
    "        current_row_index = i - 1\n",
    "        \n",
    "        features = [[a] for a in data_np[i : i + window_size]] # row for row in data_numpy[1 : 1 + window_size]\n",
    "        X.append(features)\n",
    "        \n",
    "        #labels = [[b] for b in target_col.iloc[i: i + window_size] in data[i: i + forecast_len]]\n",
    "        \n",
    "        #Labels need to be arrays for the next forecast_len values of data[target_col] for each row in data\n",
    "        \n",
    "        \n",
    "        #y.append(labels)\n",
    "        \n",
    "    return np.array(X), np.array(y)\n",
    "\n",
    "X2, y2 = windowize_data2(data_date, WINDOW_SIZE, FORECAST_LEN, 'Close')"
   ]
  },
  {
   "cell_type": "code",
   "execution_count": 15,
   "id": "f33b181d-e013-465e-b671-3a25591203c4",
   "metadata": {},
   "outputs": [
    {
     "name": "stdout",
     "output_type": "stream",
     "text": [
      "(222, 30, 1, 6)\n",
      "(0,)\n"
     ]
    }
   ],
   "source": [
    "print(X2.shape)\n",
    "print(y2.shape)"
   ]
  },
  {
   "cell_type": "code",
   "execution_count": 23,
   "id": "a7efce7b-2416-4cda-844c-ea9ec81a08c3",
   "metadata": {},
   "outputs": [
    {
     "name": "stdout",
     "output_type": "stream",
     "text": [
      "<class 'pandas.core.frame.DataFrame'>\n",
      "DatetimeIndex: 252 entries, 2021-09-20 to 2022-09-20\n",
      "Data columns (total 6 columns):\n",
      " #   Column     Non-Null Count  Dtype  \n",
      "---  ------     --------------  -----  \n",
      " 0   Open       252 non-null    float64\n",
      " 1   High       252 non-null    float64\n",
      " 2   Low        252 non-null    float64\n",
      " 3   Close      252 non-null    float64\n",
      " 4   Adj Close  252 non-null    float64\n",
      " 5   Volume     252 non-null    int64  \n",
      "dtypes: float64(5), int64(1)\n",
      "memory usage: 13.8 KB\n",
      "None\n"
     ]
    }
   ],
   "source": [
    "print(data_date.info())"
   ]
  },
  {
   "cell_type": "code",
   "execution_count": 106,
   "id": "f40e7329-03e1-4a5f-bd87-e20b72ff2aad",
   "metadata": {},
   "outputs": [
    {
     "name": "stdout",
     "output_type": "stream",
     "text": [
      "(212, 10, 6)\n",
      "\n",
      "\n",
      "[[[2.70899994e+02 2.72350006e+02 2.68350006e+02 2.71950012e+02\n",
      "   2.64080719e+02 1.99486390e+07]\n",
      "  [2.72450012e+02 2.73083008e+02 2.71200012e+02 2.72000000e+02\n",
      "   2.64129272e+02 2.85055010e+07]\n",
      "  [2.72000000e+02 2.74049988e+02 2.70899994e+02 2.73549988e+02\n",
      "   2.65634399e+02 9.49716700e+06]\n",
      "  ...\n",
      "  [2.78649994e+02 2.87399994e+02 2.78602997e+02 2.84950012e+02\n",
      "   2.76704559e+02 2.88083570e+07]\n",
      "  [2.84950012e+02 2.84950012e+02 2.81399994e+02 2.83700012e+02\n",
      "   2.75490723e+02 1.18646360e+07]\n",
      "  [2.84049988e+02 2.85425995e+02 2.83399994e+02 2.85000000e+02\n",
      "   2.76753082e+02 1.48182270e+07]]\n",
      "\n",
      " [[2.72450012e+02 2.73083008e+02 2.71200012e+02 2.72000000e+02\n",
      "   2.64129272e+02 2.85055010e+07]\n",
      "  [2.72000000e+02 2.74049988e+02 2.70899994e+02 2.73549988e+02\n",
      "   2.65634399e+02 9.49716700e+06]\n",
      "  [2.73700012e+02 2.77299988e+02 2.73649994e+02 2.75600006e+02\n",
      "   2.67625092e+02 1.21118540e+07]\n",
      "  ...\n",
      "  [2.84950012e+02 2.84950012e+02 2.81399994e+02 2.83700012e+02\n",
      "   2.75490723e+02 1.18646360e+07]\n",
      "  [2.84049988e+02 2.85425995e+02 2.83399994e+02 2.85000000e+02\n",
      "   2.76753082e+02 1.48182270e+07]\n",
      "  [2.84000000e+02 2.86250000e+02 2.83049988e+02 2.85899994e+02\n",
      "   2.77627045e+02 1.25696450e+07]]\n",
      "\n",
      " [[2.72000000e+02 2.74049988e+02 2.70899994e+02 2.73549988e+02\n",
      "   2.65634399e+02 9.49716700e+06]\n",
      "  [2.73700012e+02 2.77299988e+02 2.73649994e+02 2.75600006e+02\n",
      "   2.67625092e+02 1.21118540e+07]\n",
      "  [2.75799988e+02 2.79299988e+02 2.75350006e+02 2.75350006e+02\n",
      "   2.67382324e+02 1.02846650e+07]\n",
      "  ...\n",
      "  [2.84049988e+02 2.85425995e+02 2.83399994e+02 2.85000000e+02\n",
      "   2.76753082e+02 1.48182270e+07]\n",
      "  [2.84000000e+02 2.86250000e+02 2.83049988e+02 2.85899994e+02\n",
      "   2.77627045e+02 1.25696450e+07]\n",
      "  [2.85299988e+02 2.86100006e+02 2.80299988e+02 2.80649994e+02\n",
      "   2.72528961e+02 3.19756120e+07]]\n",
      "\n",
      " ...\n",
      "\n",
      " [[2.47800003e+02 2.48600006e+02 2.43750000e+02 2.44199997e+02\n",
      "   2.44199997e+02 2.00815780e+07]\n",
      "  [2.44199997e+02 2.47809006e+02 2.42899994e+02 2.47699997e+02\n",
      "   2.47699997e+02 1.56087220e+07]\n",
      "  [2.43399994e+02 2.49699997e+02 2.43399994e+02 2.49600006e+02\n",
      "   2.49600006e+02 1.81114850e+07]\n",
      "  ...\n",
      "  [2.45895004e+02 2.54199997e+02 2.45578995e+02 2.53100006e+02\n",
      "   2.53100006e+02 2.09264320e+07]\n",
      "  [2.50800003e+02 2.50800003e+02 2.43787003e+02 2.45300003e+02\n",
      "   2.45300003e+02 2.32724000e+07]\n",
      "  [2.44300003e+02 2.45800003e+02 2.36600006e+02 2.37300003e+02\n",
      "   2.37300003e+02 1.92770220e+07]]\n",
      "\n",
      " [[2.44199997e+02 2.47809006e+02 2.42899994e+02 2.47699997e+02\n",
      "   2.47699997e+02 1.56087220e+07]\n",
      "  [2.43399994e+02 2.49699997e+02 2.43399994e+02 2.49600006e+02\n",
      "   2.49600006e+02 1.81114850e+07]\n",
      "  [2.47500000e+02 2.57299988e+02 2.47199997e+02 2.55899994e+02\n",
      "   2.55899994e+02 2.64704940e+07]\n",
      "  ...\n",
      "  [2.50800003e+02 2.50800003e+02 2.43787003e+02 2.45300003e+02\n",
      "   2.45300003e+02 2.32724000e+07]\n",
      "  [2.44300003e+02 2.45800003e+02 2.36600006e+02 2.37300003e+02\n",
      "   2.37300003e+02 1.92770220e+07]\n",
      "  [2.37699997e+02 2.39292999e+02 2.30899994e+02 2.32000000e+02\n",
      "   2.32000000e+02 2.21110360e+07]]\n",
      "\n",
      " [[2.43399994e+02 2.49699997e+02 2.43399994e+02 2.49600006e+02\n",
      "   2.49600006e+02 1.81114850e+07]\n",
      "  [2.47500000e+02 2.57299988e+02 2.47199997e+02 2.55899994e+02\n",
      "   2.55899994e+02 2.64704940e+07]\n",
      "  [2.55600006e+02 2.55820007e+02 2.49300003e+02 2.49300003e+02\n",
      "   2.49300003e+02 1.87669140e+07]\n",
      "  ...\n",
      "  [2.44300003e+02 2.45800003e+02 2.36600006e+02 2.37300003e+02\n",
      "   2.37300003e+02 1.92770220e+07]\n",
      "  [2.37699997e+02 2.39292999e+02 2.30899994e+02 2.32000000e+02\n",
      "   2.32000000e+02 2.21110360e+07]\n",
      "  [2.30300003e+02 2.33425995e+02 2.29800003e+02 2.31500000e+02\n",
      "   2.31500000e+02 4.49964540e+07]]]\n",
      "\n",
      "\n",
      "[[271.950012 272.       273.549988 ... 284.950012 283.700012 285.      ]\n",
      " [272.       273.549988 275.600006 ... 283.700012 285.       285.899994]\n",
      " [273.549988 275.600006 275.350006 ... 285.       285.899994 280.649994]\n",
      " ...\n",
      " [244.199997 247.699997 249.600006 ... 253.100006 245.300003 237.300003]\n",
      " [247.699997 249.600006 255.899994 ... 245.300003 237.300003 232.      ]\n",
      " [249.600006 255.899994 249.300003 ... 237.300003 232.       231.5     ]]\n",
      "(212, 10)\n"
     ]
    }
   ],
   "source": [
    "#https://www.kaggle.com/code/rinichristy/bi-uni-lstm-rnns-for-temperature-forecasting\n",
    "#assumes data has been scaled before this stage\n",
    "def windowize_data3(data, window_size, forecast_len):\n",
    "    X3 = []\n",
    "    y3 = []\n",
    "    for i in range(len(data) - window_size - forecast_len):\n",
    "        X3.append(data[i: (i + window_size)])\n",
    "        #y3.append(data[:, -1][i + window_size: i + window_size + forecast_len])\n",
    "        \n",
    "        y3.append(data[: -1][i + window_size: i + window_size + forecast_len])\n",
    "\n",
    "    return np.array(X3), np.array(y3)\n",
    "    ry3 = y3[:,:,3]\n",
    "    return np.array(ry3)\n",
    "X3, y3 = windowize_data3(data_date, WINDOW_SIZE, FORECAST_LEN)\n",
    "#print(X3.shape)\n",
    "print(y3.shape) # Needs to be (212, 10) - 212 samples of the next 10 values of close.\n",
    "print()\n",
    "print()\n",
    "print(y3)\n",
    "print()\n",
    "print()\n",
    "#ry3 = [element[3][3] for element in y3]\n",
    "print(ry3)\n",
    "print(ry3.shape)\n",
    "#ry3 = np.array(ry3)\n",
    "#print(ry3.shape)\n",
    "\n",
    "#https://stackoverflow.com/questions/52572391/extract-nth-value-from-3d-array (for below)\n",
    "\n",
    "#ry3 = y3[:,:,3]\n",
    "#print(ry3)\n",
    "#ry3_np = np.array(ry3)\n",
    "#print(ry3_np.shape)"
   ]
  },
  {
   "cell_type": "code",
   "execution_count": null,
   "id": "41d22b32-3db4-4a2c-9627-eb2fb8c87be8",
   "metadata": {},
   "outputs": [],
   "source": []
  },
  {
   "cell_type": "code",
   "execution_count": null,
   "id": "98f00925-e59f-404d-8f5c-9cdf567a10aa",
   "metadata": {},
   "outputs": [],
   "source": []
  }
 ],
 "metadata": {
  "kernelspec": {
   "display_name": "Python 3 (ipykernel)",
   "language": "python",
   "name": "python3"
  },
  "language_info": {
   "codemirror_mode": {
    "name": "ipython",
    "version": 3
   },
   "file_extension": ".py",
   "mimetype": "text/x-python",
   "name": "python",
   "nbconvert_exporter": "python",
   "pygments_lexer": "ipython3",
   "version": "3.10.4"
  }
 },
 "nbformat": 4,
 "nbformat_minor": 5
}
