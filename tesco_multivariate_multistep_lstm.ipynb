{
 "cells": [
  {
   "cell_type": "code",
   "execution_count": 1,
   "id": "268bf490-f262-48ae-a41a-1477943e177c",
   "metadata": {},
   "outputs": [],
   "source": [
    "#https://github.com/chris-stellato/capstone3/tree/main/notebooks\n"
   ]
  },
  {
   "cell_type": "code",
   "execution_count": 2,
   "id": "d99580dd-f108-40b1-8af3-336f50460900",
   "metadata": {},
   "outputs": [],
   "source": [
    "import pandas as pd\n",
    "import numpy as np\n",
    "import matplotlib.pyplot as plt\n",
    "import seaborn as sns\n",
    "import tensorflow as tf\n",
    "import cv2\n",
    "import math\n",
    "import random\n",
    "import os\n",
    "import time\n",
    "from tensorflow import keras"
   ]
  },
  {
   "cell_type": "code",
   "execution_count": 3,
   "id": "5bcfe754-8813-46e9-bdc6-d59acc20d68b",
   "metadata": {},
   "outputs": [
    {
     "name": "stdout",
     "output_type": "stream",
     "text": [
      "        Date        Open        High         Low       Close   Adj Close  \\\n",
      "0 2021-09-20  254.850006  255.751007  252.050003  254.449997  244.151596   \n",
      "1 2021-09-21  255.550003  257.850006  254.750000  257.200012  246.790314   \n",
      "2 2021-09-22  258.750000  261.649994  258.049988  261.649994  251.060181   \n",
      "3 2021-09-23  263.500000  264.520996  259.500000  259.549988  249.045166   \n",
      "4 2021-09-24  260.100006  260.500000  257.500000  257.500000  247.078156   \n",
      "\n",
      "     Volume  \n",
      "0  13732928  \n",
      "1  18373464  \n",
      "2  15194454  \n",
      "3  13317828  \n",
      "4   9898053  \n",
      "\n",
      "<class 'pandas.core.frame.DataFrame'>\n",
      "RangeIndex: 252 entries, 0 to 251\n",
      "Data columns (total 7 columns):\n",
      " #   Column     Non-Null Count  Dtype         \n",
      "---  ------     --------------  -----         \n",
      " 0   Date       252 non-null    datetime64[ns]\n",
      " 1   Open       252 non-null    float64       \n",
      " 2   High       252 non-null    float64       \n",
      " 3   Low        252 non-null    float64       \n",
      " 4   Close      252 non-null    float64       \n",
      " 5   Adj Close  252 non-null    float64       \n",
      " 6   Volume     252 non-null    int64         \n",
      "dtypes: datetime64[ns](1), float64(5), int64(1)\n",
      "memory usage: 13.9 KB\n",
      "None\n"
     ]
    }
   ],
   "source": [
    "convert_to_dt = ['Date']\n",
    "\n",
    "data = pd.read_csv('C:/Users/tomwr/Datasets/Tabular/tesco-stock.csv',\n",
    "                   parse_dates = convert_to_dt,\n",
    "                   infer_datetime_format = True\n",
    "                  )\n",
    "data_normal_index = data\n",
    "data_date = data.set_index('Date')\n",
    "print(data.head())\n",
    "print()\n",
    "print(data.info())"
   ]
  },
  {
   "cell_type": "code",
   "execution_count": 4,
   "id": "1f9a13ab-2d64-4f72-b76f-ad9e1e0121a6",
   "metadata": {},
   "outputs": [],
   "source": [
    "#windowize function, three dimensional output for X and y, split afterwards\n",
    "#the below windowize functions are imported but pasted here for working through setup\n",
    "def windowize_data(data, n_prev, y_var, predict_steps=365):\n",
    "    n_predictions = len(data) - n_prev\n",
    "    \n",
    "    print(f'num_predictions: {n_predictions}')\n",
    "    y = data[y_var].iloc[n_prev:].values\n",
    "    y_indices = np.arange(predict_steps) + np.arange(len(y) - predict_steps+1)[:, None] # (0 to 365) + (\n",
    "    y = y[y_indices]\n",
    "    x_indices = np.arange(n_prev) + np.arange(n_predictions- predict_steps+1)[:, None]\n",
    "    x = data.values[x_indices]\n",
    "    return x, y"
   ]
  },
  {
   "cell_type": "code",
   "execution_count": 5,
   "id": "e59b5801-ea36-4867-aa66-65ad3825c97a",
   "metadata": {},
   "outputs": [
    {
     "name": "stdout",
     "output_type": "stream",
     "text": [
      "num_predictions: 227\n",
      "X shape: (218, 25, 7)\n",
      "y shape: (218, 10)\n"
     ]
    }
   ],
   "source": [
    "n_prev = 25 # days behind\n",
    "n_forecast = 10 # days forecast ahead\n",
    "\n",
    "X, y = windowize_data(data, n_prev, 'Close', n_forecast)\n",
    "\n",
    "print(f'X shape: {X.shape}')\n",
    "print(f'y shape: {y.shape}')"
   ]
  },
  {
   "cell_type": "code",
   "execution_count": 21,
   "id": "7ce8d62b-d7bb-43d7-ad9f-560b21e32e89",
   "metadata": {},
   "outputs": [],
   "source": [
    "WINDOW_SIZE = 10 #30\n",
    "FORECAST_LEN = 5 #10\n",
    "\n",
    "def windowize_data2(data, window_size, forecast_len, target):\n",
    "    target_col = data[target]\n",
    "    X = []\n",
    "    y = []\n",
    "    data_np = data.to_numpy()\n",
    "    \n",
    "    for i in range(len(data) - window_size): # for i in range (252 - 25 = 227)\n",
    "        current_row_index = i - 1\n",
    "        \n",
    "        features = [[a] for a in data_np[i : i + window_size]] # row for row in data_numpy[1 : 1 + window_size]\n",
    "        X.append(features)\n",
    "        \n",
    "        #labels = [[b] for b in target_col.iloc[i: i + window_size] in data[i: i + forecast_len]]\n",
    "        \n",
    "        #Labels need to be arrays for the next forecast_len values of data[target_col] for each row in data\n",
    "        \n",
    "        \n",
    "        #y.append(labels)\n",
    "        \n",
    "    return np.array(X), np.array(y)\n",
    "\n",
    "X2, y2 = windowize_data2(data_date, WINDOW_SIZE, FORECAST_LEN, 'Close')"
   ]
  },
  {
   "cell_type": "code",
   "execution_count": 7,
   "id": "f33b181d-e013-465e-b671-3a25591203c4",
   "metadata": {},
   "outputs": [
    {
     "name": "stdout",
     "output_type": "stream",
     "text": [
      "(222, 30, 1, 6)\n",
      "(0,)\n"
     ]
    }
   ],
   "source": [
    "print(X2.shape)\n",
    "print(y2.shape)"
   ]
  },
  {
   "cell_type": "code",
   "execution_count": 8,
   "id": "a7efce7b-2416-4cda-844c-ea9ec81a08c3",
   "metadata": {},
   "outputs": [
    {
     "name": "stdout",
     "output_type": "stream",
     "text": [
      "<class 'pandas.core.frame.DataFrame'>\n",
      "DatetimeIndex: 252 entries, 2021-09-20 to 2022-09-20\n",
      "Data columns (total 6 columns):\n",
      " #   Column     Non-Null Count  Dtype  \n",
      "---  ------     --------------  -----  \n",
      " 0   Open       252 non-null    float64\n",
      " 1   High       252 non-null    float64\n",
      " 2   Low        252 non-null    float64\n",
      " 3   Close      252 non-null    float64\n",
      " 4   Adj Close  252 non-null    float64\n",
      " 5   Volume     252 non-null    int64  \n",
      "dtypes: float64(5), int64(1)\n",
      "memory usage: 13.8 KB\n",
      "None\n"
     ]
    }
   ],
   "source": [
    "print(data_date.info())"
   ]
  },
  {
   "cell_type": "code",
   "execution_count": 22,
   "id": "f40e7329-03e1-4a5f-bd87-e20b72ff2aad",
   "metadata": {},
   "outputs": [
    {
     "name": "stdout",
     "output_type": "stream",
     "text": [
      "y3 shape: (237, 5, 6)\n",
      "\n",
      "\n",
      "ry3 shape: (237, 5)\n",
      "\n",
      "\n",
      "X3 shape: (237, 10, 6)\n"
     ]
    }
   ],
   "source": [
    "#https://www.kaggle.com/code/rinichristy/bi-uni-lstm-rnns-for-temperature-forecasting\n",
    "#assumes data has been scaled before this stage\n",
    "def windowize_data3(data, window_size, forecast_len):\n",
    "    X3 = []\n",
    "    y3 = []\n",
    "    for i in range(len(data) - window_size - forecast_len):\n",
    "        X3.append(data[i: (i + window_size)])\n",
    "        #y3.append(data[:, -1][i + window_size: i + window_size + forecast_len])\n",
    "        \n",
    "        y3.append(data[: -1][i + window_size: i + window_size + forecast_len])\n",
    "\n",
    "    X3 = np.array(X3) #\n",
    "    y3 = np.array(y3) #\n",
    "    ry3 = y3[:, :, 3]\n",
    "    return np.array(X3), np.array(y3), np.array(ry3)\n",
    "    #ry3 = y3[:,:,3]\n",
    "    #return np.array(ry3)\n",
    "X3, y3, ry3 = windowize_data3(data_date, WINDOW_SIZE, FORECAST_LEN)\n",
    "\n",
    "#print(X3.shape)\n",
    "print(f'y3 shape: {y3.shape}') # Needs to be (212, 10) - 212 samples of the next 10 values of close.\n",
    "print()\n",
    "print()\n",
    "print(f'ry3 shape: {ry3.shape}')\n",
    "print()\n",
    "print()\n",
    "print(f'X3 shape: {X3.shape}')\n",
    "\n",
    "#https://stackoverflow.com/questions/52572391/extract-nth-value-from-3d-array (for below)\n"
   ]
  },
  {
   "cell_type": "code",
   "execution_count": 23,
   "id": "98f00925-e59f-404d-8f5c-9cdf567a10aa",
   "metadata": {},
   "outputs": [
    {
     "name": "stdout",
     "output_type": "stream",
     "text": [
      "[[2.54850006e+02 2.55751007e+02 2.52050003e+02 2.54449997e+02\n",
      "  2.44151596e+02 1.37329280e+07]\n",
      " [2.55550003e+02 2.57850006e+02 2.54750000e+02 2.57200012e+02\n",
      "  2.46790314e+02 1.83734640e+07]\n",
      " [2.58750000e+02 2.61649994e+02 2.58049988e+02 2.61649994e+02\n",
      "  2.51060181e+02 1.51944540e+07]\n",
      " [2.63500000e+02 2.64520996e+02 2.59500000e+02 2.59549988e+02\n",
      "  2.49045166e+02 1.33178280e+07]\n",
      " [2.60100006e+02 2.60500000e+02 2.57500000e+02 2.57500000e+02\n",
      "  2.47078156e+02 9.89805300e+06]\n",
      " [2.58899994e+02 2.59950012e+02 2.57100006e+02 2.57899994e+02\n",
      "  2.47461960e+02 1.60735510e+07]\n",
      " [2.56899994e+02 2.59000000e+02 2.54399994e+02 2.56350006e+02\n",
      "  2.45974701e+02 1.45675030e+07]\n",
      " [2.56950012e+02 2.58899994e+02 2.56100006e+02 2.56500000e+02\n",
      "  2.46118637e+02 2.43726390e+07]\n",
      " [2.58000000e+02 2.58700012e+02 2.52800003e+02 2.53300003e+02\n",
      "  2.43048141e+02 2.52676980e+07]\n",
      " [2.51199997e+02 2.51600006e+02 2.46600006e+02 2.47949997e+02\n",
      "  2.37914673e+02 2.41409030e+07]]\n"
     ]
    }
   ],
   "source": [
    "print(X3[0])\n",
    "\n",
    "#10 rows as windowsize = 10. \n",
    "#6 values in each as these are the columns."
   ]
  },
  {
   "cell_type": "code",
   "execution_count": 31,
   "id": "c4c4b291-2908-4dad-a221-d30bdac1f7e4",
   "metadata": {},
   "outputs": [
    {
     "name": "stdout",
     "output_type": "stream",
     "text": [
      "[251.649994 253.       268.049988 273.149994 275.600006]\n"
     ]
    }
   ],
   "source": [
    "print(ry3[0])\n",
    "\n",
    "#1 row = 1 row of outputs\n",
    "#5 values in row = next 5 values of close."
   ]
  },
  {
   "cell_type": "markdown",
   "id": "aeaebd3f-9ab2-4197-8180-9c58c1a8bb62",
   "metadata": {},
   "source": [
    "**Split data into train, val, test - 80: 10: 10**"
   ]
  },
  {
   "cell_type": "code",
   "execution_count": 41,
   "id": "abdaff07-fded-40a4-8f8f-c57f27de5fbb",
   "metadata": {},
   "outputs": [
    {
     "name": "stdout",
     "output_type": "stream",
     "text": [
      "237\n",
      "237\n",
      "\n",
      "80% of dataset: 189.60000000000002\n",
      "90% of dataset: 213.3\n",
      "\n",
      "X_train, y_train shapes: ((190, 10, 6), (190, 5))\n",
      "X_val, y_val shapes: ((24, 10, 6), (24, 5))\n",
      "X_test, y_test shapes: ((23, 10, 6), (23, 5))\n"
     ]
    }
   ],
   "source": [
    "print(len(X3))\n",
    "print(len(ry3))\n",
    "print()\n",
    "print(f'80% of dataset: {(len(X3) / 100) * 80}')\n",
    "print(f'90% of dataset: {(len(X3) / 100) * 90}')\n",
    "\n",
    "X_train, y_train = X3[:190], ry3[:190]\n",
    "X_val, y_val = X3[190: 214], ry3[190:214]\n",
    "X_test, y_test = X3[214:], ry3[214:]\n",
    "\n",
    "print()\n",
    "print(f'X_train, y_train shapes: {X_train.shape, y_train.shape}')\n",
    "print(f'X_val, y_val shapes: {X_val.shape, y_val.shape}')\n",
    "print(f'X_test, y_test shapes: {X_test.shape, y_test.shape}')"
   ]
  },
  {
   "cell_type": "code",
   "execution_count": 42,
   "id": "27f1e037-8779-45dc-a1cb-d4cfb26ce7dd",
   "metadata": {},
   "outputs": [],
   "source": [
    "from keras.models import Sequential\n",
    "from keras.layers import *\n",
    "from keras.activations import *\n",
    "from keras.optimizers import *\n",
    "from keras.losses import *\n",
    "from keras.metrics import *\n",
    "from keras.constraints import *"
   ]
  },
  {
   "cell_type": "code",
   "execution_count": 47,
   "id": "87db265e-275e-4fd7-b132-eb584aab7226",
   "metadata": {},
   "outputs": [
    {
     "name": "stdout",
     "output_type": "stream",
     "text": [
      "Epoch 1/5\n",
      "6/6 [==============================] - 4s 169ms/step - loss: 74245.7500 - root_mean_squared_error: 272.4807 - val_loss: 65894.7812 - val_root_mean_squared_error: 256.6998\n",
      "Epoch 2/5\n",
      "6/6 [==============================] - 0s 14ms/step - loss: 73542.9531 - root_mean_squared_error: 271.1880 - val_loss: 65617.7500 - val_root_mean_squared_error: 256.1596\n",
      "Epoch 3/5\n",
      "6/6 [==============================] - 0s 13ms/step - loss: 73265.3984 - root_mean_squared_error: 270.6758 - val_loss: 65372.9062 - val_root_mean_squared_error: 255.6813\n",
      "Epoch 4/5\n",
      "6/6 [==============================] - 0s 13ms/step - loss: 73016.2734 - root_mean_squared_error: 270.2152 - val_loss: 65147.4531 - val_root_mean_squared_error: 255.2400\n",
      "Epoch 5/5\n",
      "6/6 [==============================] - 0s 13ms/step - loss: 72783.1484 - root_mean_squared_error: 269.7835 - val_loss: 64931.8594 - val_root_mean_squared_error: 254.8173\n"
     ]
    }
   ],
   "source": [
    "#This works but performs pretty poorly on unscaled data. \n",
    "\n",
    "lstm_1 = Sequential([\n",
    "    LSTM(units = 64, input_shape = X3.shape[1:], return_sequences = True, kernel_constraint = NonNeg()),\n",
    "    LSTM(units = 64, return_sequences = False, kernel_constraint = NonNeg()),\n",
    "    Dense(units = FORECAST_LEN, activation = 'linear', kernel_constraint = NonNeg())\n",
    "    \n",
    "])\n",
    "\n",
    "lstm_1.compile(loss = 'mean_squared_error',\n",
    "               optimizer = Adam(),\n",
    "               metrics = RootMeanSquaredError()\n",
    "              )\n",
    "\n",
    "lstm_1_history = lstm_1.fit(X_train, y_train,\n",
    "                            validation_data = (X_val, y_val),\n",
    "                            epochs = 5\n",
    "                           )\n"
   ]
  },
  {
   "cell_type": "code",
   "execution_count": 52,
   "id": "6e899d8d-ea52-44b8-9756-1ddce193d061",
   "metadata": {},
   "outputs": [
    {
     "name": "stdout",
     "output_type": "stream",
     "text": [
      "1/1 [==============================] - 0s 18ms/step\n",
      "23\n",
      "\n",
      "[[6.282501  8.02745   6.3229275 6.4182267 7.1905336]\n",
      " [6.282501  8.02745   6.3229275 6.4182267 7.1905336]\n",
      " [6.282501  8.02745   6.3229275 6.4182267 7.1905336]\n",
      " [6.2825017 8.02745   6.3229275 6.4182267 7.1905336]\n",
      " [6.2825017 8.02745   6.3229275 6.4182267 7.1905336]\n",
      " [6.2825017 8.02745   6.3229275 6.4182267 7.1905336]\n",
      " [6.282501  8.02745   6.3229275 6.4182267 7.1905336]\n",
      " [6.282501  8.02745   6.3229275 6.4182267 7.1905336]\n",
      " [6.282501  8.02745   6.3229275 6.4182267 7.1905336]\n",
      " [6.2825017 8.02745   6.3229275 6.4182267 7.1905336]\n",
      " [6.282501  8.02745   6.3229275 6.4182267 7.1905336]\n",
      " [6.282501  8.02745   6.3229275 6.4182267 7.1905336]\n",
      " [6.282501  8.02745   6.3229275 6.4182267 7.1905336]\n",
      " [6.282501  8.02745   6.3229275 6.4182267 7.1905336]\n",
      " [6.282501  8.02745   6.3229275 6.4182267 7.1905336]\n",
      " [6.2825017 8.02745   6.3229275 6.4182267 7.190534 ]\n",
      " [6.282501  8.02745   6.3229275 6.4182267 7.190534 ]\n",
      " [6.282501  8.02745   6.3229275 6.4182267 7.190534 ]\n",
      " [6.282501  8.02745   6.3229275 6.4182267 7.1905336]\n",
      " [6.282501  8.02745   6.3229275 6.4182267 7.1905336]\n",
      " [6.282501  8.02745   6.3229275 6.4182267 7.190534 ]\n",
      " [6.282501  8.02745   6.3229275 6.4182267 7.1905336]\n",
      " [6.282501  8.02745   6.3229275 6.4182267 7.190534 ]]\n"
     ]
    }
   ],
   "source": [
    "lstm_1_predictions = lstm_1.predict(X_test)\n",
    "\n",
    "print(len(lstm_1_predictions))\n",
    "print()\n",
    "print(lstm_1_predictions)\n",
    "\n",
    "#Each row in predictions of all 4 is days +1, +2, +3 etc. "
   ]
  },
  {
   "cell_type": "markdown",
   "id": "ddb4f484-7280-4884-927c-93306da4c3b0",
   "metadata": {},
   "source": [
    "**Scaling the data for better performance (hopefully)**"
   ]
  },
  {
   "cell_type": "code",
   "execution_count": 61,
   "id": "92d04bc3-f96e-41c3-8f87-31781452d8d1",
   "metadata": {},
   "outputs": [
    {
     "name": "stdout",
     "output_type": "stream",
     "text": [
      "(190, 5)\n"
     ]
    }
   ],
   "source": [
    "from sklearn.preprocessing import MinMaxScaler\n",
    "\n",
    "feature_scaler = MinMaxScaler(feature_range = (0, 1))\n",
    "\n",
    "\n",
    "label_scaler = MinMaxScaler(feature_range = (0, 1))\n",
    "\n",
    "################## FEATURES ###########################\n",
    "#Break down arrays shapes\n",
    "X_train_sequences, X_train_window, X_train_features = X_train.shape\n",
    "X_val_sequences, X_val_window, X_val_features = X_val.shape\n",
    "X_test_sequences, X_test_window, X_test_features = X_test.shape\n",
    "\n",
    "#Create 2D versions - so can be transformed\n",
    "X_train_2D = X_train.reshape(X_train_sequences, X_train_window * X_train_features)\n",
    "X_val_2D = X_val.reshape(X_val_sequences, X_val_window * X_val_features)\n",
    "X_test_2D = X_test.reshape(X_test_sequences, X_test_window * X_test_features)\n",
    "\n",
    "#Create 2D scaled versions\n",
    "X_train_2D_scaled = feature_scaler.fit_transform(X_train_2D)\n",
    "X_val_2D_scaled = feature_scaler.transform(X_val_2D)\n",
    "X_test_2D_scaled = feature_scaler.transform(X_test_2D)\n",
    "\n",
    "#Create 3D scaled versions - so can be used in a model\n",
    "X_train_3D_scaled = X_train_2D_scaled.reshape(X_train_sequences, X_train_window, X_train_features)\n",
    "X_val_3D_scaled = X_val_2D_scaled.reshape(X_val_sequences, X_val_window, X_val_features)\n",
    "X_test_3D_scaled = X_test_2D_scaled.reshape(X_test_sequences, X_test_window, X_test_features)\n",
    "\n",
    "################## LABELS ##############################\n",
    "\n",
    "#Create scaled 2D labels - y_train is already 2D\n",
    "y_train_2D_scaled = label_scaler.fit_transform(y_train)\n",
    "y_val_2D_scaled = label_scaler.transform(y_val)\n",
    "y_test_2D_scaled = label_scaler.transform(y_test)\n",
    "\n",
    "#Create scaled 1D labels\n",
    "y_train_1D_scaled = y_train_2D_scaled.flatten()\n",
    "y_val_1D_scaled = y_val_2D_scaled.flatten()\n",
    "y_test_1D_scaled = y_test_2D_scaled.flatten()\n",
    "\n",
    "#Create unscaled 1D labels\n",
    "y_train_1D_unscaled = label_scaler.inverse_transform(y_train_2D_scaled).flatten()\n",
    "y_val_1D_unscaled = label_scaler.inverse_transform(y_val_2D_scaled).flatten()\n",
    "y_test_1D_unscaled = label_scaler.inverse_transform(y_test_2D_scaled).flatten()"
   ]
  },
  {
   "cell_type": "markdown",
   "id": "b2ccc70b-9b47-452c-8818-37a440356df9",
   "metadata": {},
   "source": [
    "**LSTM_2 - Using same architecture but scaled dataset**"
   ]
  },
  {
   "cell_type": "code",
   "execution_count": 63,
   "id": "5186a764-1205-4ce0-bdcb-5d1cb94efc5c",
   "metadata": {},
   "outputs": [
    {
     "name": "stdout",
     "output_type": "stream",
     "text": [
      "Epoch 1/20\n",
      "6/6 [==============================] - 4s 170ms/step - loss: 0.2950 - root_mean_squared_error: 0.5431 - val_loss: 0.0040 - val_root_mean_squared_error: 0.0633\n",
      "Epoch 2/20\n",
      "6/6 [==============================] - 0s 14ms/step - loss: 0.0255 - root_mean_squared_error: 0.1596 - val_loss: 0.0111 - val_root_mean_squared_error: 0.1054\n",
      "Epoch 3/20\n",
      "6/6 [==============================] - 0s 13ms/step - loss: 0.0500 - root_mean_squared_error: 0.2236 - val_loss: 0.0151 - val_root_mean_squared_error: 0.1231\n",
      "Epoch 4/20\n",
      "6/6 [==============================] - 0s 13ms/step - loss: 0.0472 - root_mean_squared_error: 0.2173 - val_loss: 0.0082 - val_root_mean_squared_error: 0.0907\n",
      "Epoch 5/20\n",
      "6/6 [==============================] - 0s 13ms/step - loss: 0.0250 - root_mean_squared_error: 0.1580 - val_loss: 0.0020 - val_root_mean_squared_error: 0.0451\n",
      "Epoch 6/20\n",
      "6/6 [==============================] - 0s 13ms/step - loss: 0.0167 - root_mean_squared_error: 0.1293 - val_loss: 0.0015 - val_root_mean_squared_error: 0.0390\n",
      "Epoch 7/20\n",
      "6/6 [==============================] - 0s 13ms/step - loss: 0.0182 - root_mean_squared_error: 0.1349 - val_loss: 0.0014 - val_root_mean_squared_error: 0.0381\n",
      "Epoch 8/20\n",
      "6/6 [==============================] - 0s 13ms/step - loss: 0.0159 - root_mean_squared_error: 0.1263 - val_loss: 0.0013 - val_root_mean_squared_error: 0.0359\n",
      "Epoch 9/20\n",
      "6/6 [==============================] - 0s 13ms/step - loss: 0.0152 - root_mean_squared_error: 0.1232 - val_loss: 0.0018 - val_root_mean_squared_error: 0.0420\n",
      "Epoch 10/20\n",
      "6/6 [==============================] - 0s 13ms/step - loss: 0.0150 - root_mean_squared_error: 0.1226 - val_loss: 0.0016 - val_root_mean_squared_error: 0.0395\n",
      "Epoch 11/20\n",
      "6/6 [==============================] - 0s 14ms/step - loss: 0.0146 - root_mean_squared_error: 0.1207 - val_loss: 0.0013 - val_root_mean_squared_error: 0.0359\n",
      "Epoch 12/20\n",
      "6/6 [==============================] - 0s 13ms/step - loss: 0.0144 - root_mean_squared_error: 0.1198 - val_loss: 0.0012 - val_root_mean_squared_error: 0.0346\n",
      "Epoch 13/20\n",
      "6/6 [==============================] - 0s 13ms/step - loss: 0.0144 - root_mean_squared_error: 0.1200 - val_loss: 0.0012 - val_root_mean_squared_error: 0.0345\n",
      "Epoch 14/20\n",
      "6/6 [==============================] - 0s 13ms/step - loss: 0.0143 - root_mean_squared_error: 0.1194 - val_loss: 0.0013 - val_root_mean_squared_error: 0.0359\n",
      "Epoch 15/20\n",
      "6/6 [==============================] - 0s 13ms/step - loss: 0.0142 - root_mean_squared_error: 0.1191 - val_loss: 0.0013 - val_root_mean_squared_error: 0.0366\n",
      "Epoch 16/20\n",
      "6/6 [==============================] - 0s 13ms/step - loss: 0.0142 - root_mean_squared_error: 0.1190 - val_loss: 0.0013 - val_root_mean_squared_error: 0.0365\n",
      "Epoch 17/20\n",
      "6/6 [==============================] - 0s 13ms/step - loss: 0.0141 - root_mean_squared_error: 0.1188 - val_loss: 0.0013 - val_root_mean_squared_error: 0.0357\n",
      "Epoch 18/20\n",
      "6/6 [==============================] - 0s 13ms/step - loss: 0.0141 - root_mean_squared_error: 0.1185 - val_loss: 0.0013 - val_root_mean_squared_error: 0.0357\n",
      "Epoch 19/20\n",
      "6/6 [==============================] - 0s 14ms/step - loss: 0.0140 - root_mean_squared_error: 0.1184 - val_loss: 0.0013 - val_root_mean_squared_error: 0.0355\n",
      "Epoch 20/20\n",
      "6/6 [==============================] - 0s 14ms/step - loss: 0.0140 - root_mean_squared_error: 0.1183 - val_loss: 0.0013 - val_root_mean_squared_error: 0.0367\n"
     ]
    }
   ],
   "source": [
    "lstm_2 = Sequential([\n",
    "    LSTM(units = 64, input_shape = X3.shape[1:], return_sequences = True, kernel_constraint = NonNeg()),\n",
    "    LSTM(units = 64, return_sequences = False, kernel_constraint = NonNeg()),\n",
    "    Dense(units = FORECAST_LEN, activation = 'linear', kernel_constraint = NonNeg())\n",
    "    \n",
    "])\n",
    "\n",
    "lstm_2.compile(loss = 'mean_squared_error',\n",
    "               optimizer = Adam(),\n",
    "               metrics = RootMeanSquaredError()\n",
    "              )\n",
    "\n",
    "lstm_2_history = lstm_2.fit(X_train_3D_scaled, y_train_2D_scaled,\n",
    "                            validation_data = (X_val_3D_scaled, y_val_2D_scaled),\n",
    "                            epochs = 20\n",
    "                           )"
   ]
  },
  {
   "cell_type": "code",
   "execution_count": 81,
   "id": "8780cb69-fadb-431f-aede-cd0b51befafe",
   "metadata": {},
   "outputs": [
    {
     "name": "stdout",
     "output_type": "stream",
     "text": [
      "1/1 [==============================] - 0s 18ms/step\n",
      "\n",
      "(23, 5)\n",
      "23\n",
      "[[0.3051116  0.30273694 0.30122453 0.31085125 0.30569008]\n",
      " [0.31308562 0.31022388 0.30967182 0.31838578 0.31336215]\n",
      " [0.32202542 0.31868422 0.31908768 0.32687855 0.32197842]\n",
      " [0.32167044 0.31866848 0.31807405 0.32681873 0.3215994 ]\n",
      " [0.3229785  0.3199981  0.31915525 0.3282776  0.32288563]\n",
      " [0.33048302 0.32684332 0.32768294 0.3356061  0.3304141 ]\n",
      " [0.3445117  0.339975   0.3431845  0.3493412  0.34430608]\n",
      " [0.36365503 0.35800666 0.36423922 0.3682181  0.3632676 ]\n",
      " [0.38380116 0.3773151  0.38537607 0.38767436 0.38255677]\n",
      " [0.39612657 0.3897934  0.39678508 0.39968884 0.3938645 ]\n",
      " [0.39516369 0.39020923 0.3930959  0.39946854 0.39237824]\n",
      " [0.3813997  0.3784643  0.37574178 0.38662237 0.37826112]\n",
      " [0.35192555 0.35177052 0.34141308 0.35819983 0.34859398]\n",
      " [0.31335527 0.31624115 0.29762062 0.32065684 0.31027952]\n",
      " [0.26858288 0.27411968 0.2490415  0.27676845 0.26659995]\n",
      " [0.22827248 0.23508938 0.2079338  0.23641557 0.22788581]\n",
      " [0.1820104  0.18998484 0.16168523 0.18985355 0.1837351 ]\n",
      " [0.13970414 0.14803323 0.12120241 0.1470083  0.14411071]\n",
      " [0.10771757 0.1152679  0.0931347  0.11399008 0.11505606]\n",
      " [0.10011791 0.10478611 0.09254078 0.10456195 0.11011783]\n",
      " [0.09861784 0.1007758  0.09696565 0.10167681 0.11053863]\n",
      " [0.07584257 0.0786361  0.07457966 0.07924206 0.08907735]\n",
      " [0.04504353 0.04973116 0.0420311  0.04904024 0.0594646 ]]\n"
     ]
    },
    {
     "data": {
      "image/png": "[encoded data removed]",
      "text/plain": [
       "<Figure size 432x288 with 1 Axes>"
      ]
     },
     "metadata": {
      "needs_background": "light"
     },
     "output_type": "display_data"
    }
   ],
   "source": [
    "lstm_2_predictions = lstm_2.predict(X_test_3D_scaled)\n",
    "print()\n",
    "print(lstm_2_predictions.shape) # (23, 5) is same shape as y test.\n",
    "\n",
    "#23 days of +5 forecasts. Each row is next day.\n",
    "#Bottom row is predictions beyond the end of dataset ( i think)\n",
    "\n",
    "print(len(lstm_2_predictions))\n",
    "\n",
    "print(lstm_2_predictions)\n",
    "\n",
    "lstm_2_predictions_5day = lstm_2_predictions[:, 3:5]\n",
    "plt.plot(lstm_2_predictions_5day)\n",
    "\n",
    "#plt.plot(lstm_2_predictions[-2]) # 2nd from bottom row - Blue\n",
    "#plt.plot(lstm_2_predictions[-1]) # bottom row - Orange\n",
    "#plt.plot(lstm_2_predictions)\n",
    "plt.show()"
   ]
  },
  {
   "cell_type": "code",
   "execution_count": null,
   "id": "57016b84-6613-4bf9-8ff6-8297792447df",
   "metadata": {},
   "outputs": [],
   "source": []
  }
 ],
 "metadata": {
  "kernelspec": {
   "display_name": "Python 3 (ipykernel)",
   "language": "python",
   "name": "python3"
  },
  "language_info": {
   "codemirror_mode": {
    "name": "ipython",
    "version": 3
   },
   "file_extension": ".py",
   "mimetype": "text/x-python",
   "name": "python",
   "nbconvert_exporter": "python",
   "pygments_lexer": "ipython3",
   "version": "3.10.4"
  }
 },
 "nbformat": 4,
 "nbformat_minor": 5
}
